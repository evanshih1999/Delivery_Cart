{
 "cells": [
  {
   "cell_type": "code",
   "execution_count": null,
   "metadata": {},
   "outputs": [],
   "source": [
    "import time\n",
    "import paho.mqtt.client as mqtt\n",
    "from jetbot import Robot\n",
    "from adafruit_servokit import ServoKit\n",
    "import board\n",
    "import busio\n",
    "i2c_bus0=(busio.I2C(board.SCL_1, board.SDA_1))\n",
    "kit=ServoKit(channels=16, i2c=i2c_bus0)\n",
    "print(\"ServoKit done!\")\n",
    "kit.servo[0].angle=12 #close\n",
    "\n",
    "robot = Robot()\n",
    "\n",
    "def on_message(client, obj, msg):\n",
    "    # print(f\"TOPIC:{msg.topic}, VALUE:{msg.payload}\")\n",
    "    commend = msg.payload.decode(\"utf-8\")\n",
    "    print(\"commend: \", commend)\n",
    "    if commend == 'stop':\n",
    "        robot.stop()\n",
    "    elif commend == 'forward':\n",
    "        robot.set_motors(0.2, 0.2)\n",
    "    elif commend == 'backward':\n",
    "        robot.set_motors(-0.2, -0.2)\n",
    "    elif commend == 'left':\n",
    "        robot.set_motors(-0.2, 0.2)\n",
    "    elif commend == 'right':\n",
    "        robot.set_motors(0.2, -0.2)\n",
    "    elif commend == 'open':\n",
    "        kit.servo[0].angle=140\n",
    "    elif commend == 'close':\n",
    "        kit.servo[0].angle=12\n",
    "    else:\n",
    "        print(\"Invalid commend!\")\n",
    "    \n",
    "\n",
    "def main():\n",
    "    # Establish connection to mqtt broker\n",
    "    client = mqtt.Client()\n",
    "    client.on_message = on_message\n",
    "    client.username_pw_set(\"Car1\",\"Car1\")\n",
    "    client.connect(host=\"your-mqtt-broker-ip\", port=1883)\n",
    "    client.subscribe('Car1', 0)\n",
    "\n",
    "    try:\n",
    "        client.loop_forever()\n",
    "    except KeyboardInterrupt as e:\n",
    "        kit.servo[0].angle=12\n",
    "\n",
    "main()"
   ]
  }
 ],
 "metadata": {
  "language_info": {
   "name": "plaintext"
  },
  "orig_nbformat": 4
 },
 "nbformat": 4,
 "nbformat_minor": 2
}
